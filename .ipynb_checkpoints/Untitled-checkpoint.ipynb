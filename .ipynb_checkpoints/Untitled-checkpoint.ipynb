{
 "cells": [
  {
   "cell_type": "code",
   "execution_count": 1,
   "id": "97296054",
   "metadata": {},
   "outputs": [],
   "source": [
    "import requests\n",
    "from bs4 import BeautifulSoup\n",
    "from selenium import webdriver\n",
    "from selenium.webdriver.common.keys import Keys\n",
    "import time\n",
    "import json"
   ]
  },
  {
   "cell_type": "code",
   "execution_count": 2,
   "id": "5a84a5de",
   "metadata": {},
   "outputs": [],
   "source": [
    "# initiating the webdriver. Parameter includes the path of the webdriver.\n",
    "driver = webdriver.Chrome('./chromedriver') "
   ]
  },
  {
   "cell_type": "code",
   "execution_count": 3,
   "id": "2f3816a4",
   "metadata": {},
   "outputs": [],
   "source": [
    "class City:\n",
    "    def __init__(self, cityName, cityHref):\n",
    "        self.cityName = cityName\n",
    "        self.cityHref = cityHref\n",
    "    \n",
    "    def __eq__(self, other):\n",
    "        return self.cityHref == other.cityHref\n",
    "    \n",
    "    def __hash__(self):\n",
    "        return hash(('city', self.cityName, 'city_href', self.cityHref))"
   ]
  },
  {
   "cell_type": "code",
   "execution_count": 4,
   "id": "ab016c76",
   "metadata": {},
   "outputs": [],
   "source": [
    "def goToPageAndGetSoup(URL):\n",
    "    driver.get(URL)\n",
    "    \n",
    "    # this is just to ensure that the page is loaded\n",
    "    time.sleep(15) \n",
    "    \n",
    "    html = driver.page_source\n",
    "    \n",
    "    soup = BeautifulSoup(html, 'html.parser')\n",
    "    return soup"
   ]
  },
  {
   "cell_type": "code",
   "execution_count": 5,
   "id": "56faa86d",
   "metadata": {},
   "outputs": [],
   "source": [
    "# URL = 'http://api.scraperapi.com/?api_key=c59648ab998ca23833e502f4638bfc49&url=https://www.grubhub.com/food/the_ice_cream_shop&render=true&country_code=us'\n",
    "# page = requests.get(URL)\n",
    "URL = \"https://www.grubhub.com/food/the_ice_cream_shop\""
   ]
  },
  {
   "cell_type": "code",
   "execution_count": 6,
   "id": "53f391a8",
   "metadata": {},
   "outputs": [],
   "source": [
    "main_soup = goToPageAndGetSoup(URL)"
   ]
  },
  {
   "cell_type": "code",
   "execution_count": 7,
   "id": "8b37d11e",
   "metadata": {},
   "outputs": [],
   "source": [
    "def getAllCities(soup):\n",
    "    all_s_row_elems = soup.find_all('div', class_='s-row', recursive=True)\n",
    "    print(len(all_s_row_elems))\n",
    "    state_elems = all_s_row_elems[10:78]\n",
    "    print(len(state_elems)) # should be 68\n",
    "    \n",
    "    cities = []\n",
    "    cityHrefs = []\n",
    "\n",
    "    for i, state_elem in enumerate(state_elems):\n",
    "        city_elems = state_elem.find_all('a', recursive=True)\n",
    "        for j, city_elem in enumerate(city_elems):\n",
    "            cities.append(city_elem.text)\n",
    "            cityHrefs.append(\"https://www.grubhub.com{}\".format(city_elem['href']))\n",
    "\n",
    "    print(len(cities)) # Should be 5550\n",
    "    print(len(cityHrefs)) #^\n",
    "    \n",
    "    # Converting into objects\n",
    "    cityObjs = []\n",
    "    for i, city in enumerate(cities):\n",
    "        cityObjs.append(City(city, cityHrefs[i]))\n",
    "        \n",
    "    uniqueCities = list(set(cityObjs))\n",
    "    print(len(uniqueCities))\n",
    "    return uniqueCities"
   ]
  },
  {
   "cell_type": "code",
   "execution_count": 8,
   "id": "e7ecc072",
   "metadata": {},
   "outputs": [
    {
     "name": "stdout",
     "output_type": "stream",
     "text": [
      "84\n",
      "68\n",
      "5550\n",
      "5550\n",
      "2775\n",
      "2775\n"
     ]
    }
   ],
   "source": [
    "uniqueCities = getAllCities(main_soup)\n",
    "print(len(uniqueCities))"
   ]
  },
  {
   "cell_type": "code",
   "execution_count": 9,
   "id": "88a1ad58",
   "metadata": {},
   "outputs": [],
   "source": [
    "def getAllStoresInCitySoup(city):\n",
    "    URL = city.cityHref\n",
    "    soup = goToPageAndGetSoup(URL)\n",
    "    \n",
    "    all_s_row_elems = soup.find_all('div', class_='s-row', recursive=True)\n",
    "    all_shops = list(filter(lambda x: \"See menu\" in x.text, all_s_row_elems))\n",
    "    all_shops = list(filter(lambda x: len(x['class']) == 1, all_shops))\n",
    "    \n",
    "    # See if there are more\n",
    "    while True:\n",
    "        next_btn = soup.find(\"li\", class_=\"page-item s-pagination-next\", recursive=True)\n",
    "        if next_btn is None or \"disabled\" in next_btn[\"class\"]:\n",
    "            break\n",
    "        else:\n",
    "            nextURL = next_btn.find(\"a\")[\"href\"]\n",
    "            nextURL = \"https:{}\".format(nextURL)\n",
    "            \n",
    "            soup = goToPageAndGetSoup(nextURL)\n",
    "            all_s_row_elems = soup.find_all('div', class_='s-row', recursive=True)\n",
    "            all_next_shops = list(filter(lambda x: \"See menu\" in x.text, all_s_row_elems))\n",
    "            all_shops += list(filter(lambda x: len(x['class']) == 1, all_next_shops))\n",
    "    \n",
    "    return all_shops"
   ]
  },
  {
   "cell_type": "code",
   "execution_count": 10,
   "id": "5df84af5",
   "metadata": {},
   "outputs": [],
   "source": [
    "class Store:\n",
    "    def __init__(self, city, cityHref, name, storeHref, address, number):\n",
    "        self.city = city\n",
    "        self.cityHref = cityHref\n",
    "        self.name = name\n",
    "        self.storeHref = storeHref\n",
    "        self.address = address\n",
    "        self.number = number\n",
    "        \n",
    "    def __str__(self):\n",
    "        return \"{}\\n{}\\n{}\\n{}\\n{}\\n{}\".format(self.city, self.cityHref, self.name, self.storeHref, self.address, self.number)"
   ]
  },
  {
   "cell_type": "code",
   "execution_count": 11,
   "id": "288085d7",
   "metadata": {},
   "outputs": [],
   "source": [
    "def getStoreNumber(shop_url):\n",
    "    soup = goToPageAndGetSoup(shop_url)\n",
    "    all_buttons = soup.find_all('button', class_='u-noWrap s-btn s-btn-tertiary u-padding-cancel restaurant-phone-button', recursive=True)\n",
    "    return all_buttons[0].text"
   ]
  },
  {
   "cell_type": "code",
   "execution_count": 12,
   "id": "bd13a7e4",
   "metadata": {},
   "outputs": [],
   "source": [
    "def getInfoAllStores(allStoresSoup, city):\n",
    "    results = []\n",
    "    for i, storeSoup in enumerate(allStoresSoup):\n",
    "        \n",
    "        # Get name\n",
    "        name = \"\"\n",
    "        for i, child in enumerate(storeSoup.find(\"h5\").children):\n",
    "            if i == 1:\n",
    "                name = child\n",
    "        \n",
    "        # Get address\n",
    "        all_child_divs = storeSoup.find_all(\"div\", recursive=True)\n",
    "        address = all_child_divs[6].text\n",
    "        \n",
    "        # Get href\n",
    "        shop_url = storeSoup.find_all(\"a\", recursive=True)[1]['href']\n",
    "        shop_url = \"https://www.grubhub.com{}\".format(shop_url)\n",
    "        \n",
    "        # Get phone number\n",
    "        phone = getStoreNumber(shop_url)\n",
    "        \n",
    "        newStore = Store(city.cityName, city.cityHref, name, shop_url, address, phone)\n",
    "        results.append(newStore)\n",
    "    \n",
    "    return results"
   ]
  },
  {
   "cell_type": "code",
   "execution_count": 13,
   "id": "4d2cf6da",
   "metadata": {},
   "outputs": [],
   "source": [
    "def exploreAllCities(uniqueCities):\n",
    "    allStores = []\n",
    "    for i, city in enumerate(uniqueCities):\n",
    "        allStoresSoup = getAllStoresInCitySoup(city)\n",
    "        allStores += getInfoAllStores(allStoresSoup, city)\n",
    "    return allStores"
   ]
  },
  {
   "cell_type": "code",
   "execution_count": null,
   "id": "25491498",
   "metadata": {
    "scrolled": true
   },
   "outputs": [
    {
     "name": "stdout",
     "output_type": "stream",
     "text": [
      "0\n",
      "1\n",
      "2\n",
      "3\n",
      "4\n",
      "5\n",
      "6\n",
      "7\n",
      "8\n",
      "9\n",
      "10\n",
      "11\n",
      "12\n",
      "13\n",
      "14\n",
      "15\n",
      "16\n",
      "17\n",
      "18\n",
      "19\n",
      "20\n",
      "21\n",
      "22\n",
      "23\n",
      "24\n",
      "25\n",
      "26\n",
      "27\n",
      "28\n",
      "29\n",
      "30\n",
      "31\n",
      "32\n",
      "33\n",
      "34\n",
      "35\n",
      "36\n",
      "37\n",
      "38\n",
      "39\n",
      "40\n",
      "41\n"
     ]
    }
   ],
   "source": [
    "allStores = []\n",
    "for i, city in enumerate(uniqueCities):\n",
    "    tempStores = exploreAllCities([city])\n",
    "    allStores += tempStores\n",
    "    print(i)"
   ]
  },
  {
   "cell_type": "code",
   "execution_count": 19,
   "id": "5eab2061",
   "metadata": {},
   "outputs": [
    {
     "name": "stdout",
     "output_type": "stream",
     "text": [
      "14\n",
      "Greene\n",
      "https://www.grubhub.com/food/the_ice_cream_shop/me-greene\n",
      "The Ice Cream Shop\n",
      "https://www.grubhub.com/restaurant/the-ice-cream-shop-145-college-st-lewiston/2403267\n",
      "145 College St, Lewiston, ME, 04240\n",
      "(207) 786-0785\n"
     ]
    }
   ],
   "source": [
    "print(len(allStores))"
   ]
  },
  {
   "cell_type": "code",
   "execution_count": 15,
   "id": "8a1e3d47",
   "metadata": {
    "scrolled": true
   },
   "outputs": [
    {
     "name": "stdout",
     "output_type": "stream",
     "text": [
      "2487\n"
     ]
    }
   ],
   "source": [
    "# Use to find the store for debugging\n",
    "for i, city in enumerate(uniqueCities):\n",
    "    if \"ca-los_angeles\" in city.cityHref:\n",
    "        print(i)\n",
    "        break"
   ]
  },
  {
   "cell_type": "code",
   "execution_count": null,
   "id": "a5175d62",
   "metadata": {},
   "outputs": [],
   "source": []
  }
 ],
 "metadata": {
  "kernelspec": {
   "display_name": "Python (ice_cream_scraper)",
   "language": "python",
   "name": "ice_cream_scraper"
  },
  "language_info": {
   "codemirror_mode": {
    "name": "ipython",
    "version": 3
   },
   "file_extension": ".py",
   "mimetype": "text/x-python",
   "name": "python",
   "nbconvert_exporter": "python",
   "pygments_lexer": "ipython3",
   "version": "3.8.10"
  }
 },
 "nbformat": 4,
 "nbformat_minor": 5
}
